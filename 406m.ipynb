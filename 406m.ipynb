{
    "cells": [
        {
            "cell_type": "markdown",
            "metadata": {
                "collapsed": true
            },
            "source": "<h1><b align='center'>The Capstone-project</b></h1>"
        },
        {
            "cell_type": "markdown",
            "metadata": {},
            "source": "<h2>Section-1:\nIntroduction </h2>"
        },
        {
            "cell_type": "markdown",
            "metadata": {},
            "source": "<p>In this section I am going to describe about my idea , where I leverage the Foursquare location data to solve the business activities which we are facing at present.</p>"
        },
        {
            "cell_type": "markdown",
            "metadata": {},
            "source": "<p>We see large number of travel sites on the Internet, including FourSquare, that will tell you all about places to go, things to see, restaurants to eat at, bars to drink in, nightclubs to part the night away in and then where to go in the morning to get breakfast and a strong coffee. The problems with these sites is that they are one dimensional. If you want to find out all this information about a city you plan to visit next month, you have to do the hard work. Also, just because a venue is the hottest place to go for a night out does not always mean that the unwitting tourist should just ramble in unprepared. The areas surrounding this new venue might be riddled with crime including muggings, car theft and assault, for example. Approach the venue from any direction other than from the north and you could be putting your life in danger. This is when my idea comes in.</p>"
        },
        {
            "cell_type": "markdown",
            "metadata": {},
            "source": "<p>let us imagine the following situations</p>"
        },
        {
            "cell_type": "markdown",
            "metadata": {},
            "source": "<p> 1.You like to plan ahead and always review your options and make your choices about where you will visit and eat up front before you travel.\n2.You are flying to Chicogo for a Data Science Conference.\n3.You arrive in Chicago the day the conference starts but you've managed to convince your boss to delay your return by a few days giving you time to explore\n4.Also the last time you went to a conference you were mugged and had you passport. money and credit cards stolen so you're now nervous of going somewhere without first researching the venue and the surrounding area.\n5.The conference is next week and you don't have time to do all the research you'd like.\n</p>"
        },
        {
            "cell_type": "markdown",
            "metadata": {},
            "source": "<h3>The problems for these will be answered by reading the content below</h3>"
        },
        {
            "cell_type": "markdown",
            "metadata": {},
            "source": "<p>My idea for the Capstone Project is to show that when driven by venue and location data from FourSquare, backed up with open source crime data, that it is possible to present the cautious and nervous traveller with a list of attractions to visit supplementd with a graphics showing the occurance of crime in the region of the venue.</p>"
        },
        {
            "cell_type": "markdown",
            "metadata": {},
            "source": "<p> An approach should be taken as follows</p>\n<p><i>approach is as follows:\n\nThe travellers decides on a city location [in this case Chicago]\nThe ForeSquare website is scrapped for the top venues in the city\nFrom this list of top venues the list is augmented with additional grographical data\nUsing this additional geographical data the top nearby restaurents are selects\nThe historical crime within a predetermined distance of all venues are obtained\nA map is presented to the to the traveller showing the selected venues and crime statistics of the area.\nThe future probability of a crime happening near or around the selected top sites is also presented to the user</i></p>"
        },
        {
            "cell_type": "markdown",
            "metadata": {},
            "source": "<p>There are many data science aspect of this project including:\n\nData Acquisition\nData Analysis\nMachine Learning\nPrediction </p>"
        },
        {
            "cell_type": "markdown",
            "metadata": {},
            "source": ""
        },
        {
            "cell_type": "markdown",
            "metadata": {},
            "source": "<h1>Section 2: Data\nData Description</h1>\n<p>In this section, I will describe the data used to solve the problem as described previously.\n\nAs noted below in the Further Development Section, it is possible to attempt quite complex and sophisticated scenarios when approaching this problem. However, given the size of the project and for simplicity only the following scenario will be addressed:\n\nQuery the FourSqaure website for the top sites in Chicago\nUse the FourSquare API to get supplemental geographical data about the top sites\nUse the FourSquare API to get top restaurent recommendations closest to each of the top site\nUse open source Chicago Crime data to provide the user with additional crime data</p>"
        },
        {
            "cell_type": "markdown",
            "metadata": {},
            "source": "<h2>Section 3: Methodology</h2>"
        },
        {
            "cell_type": "markdown",
            "metadata": {},
            "source": "<h2>Using BeautifulSoup and Requests the results of the Top Pick for Chicago was retrieved. A sample venue is shown below:</h2>\n\n<div class=\"venueDetails\">\n    <div class=\"venueName\">\n        <h2>\n    <a href=\"/v/millennium-park/42b75880f964a52090251fe3\" target=\"_blank\">Millennium Park\n    </a>\n</h2>\n    </div>\n    <div class=\"venueMeta\">\n        <div class=\"venueScore positive\" style=\"background-color: #00B551;\" title=\"9.7/10 - People like this place\">9.7</div>\n        <div class=\"venueAddressData\">\n            <div class=\"venueAddress\">201 E Randolph St (btwn Columbus Dr &amp; Michigan Ave), Chicago</div>\n            <div class=\"venueData\"><span class=\"venueDataItem\"><span class=\"categoryName\">Park</span><span class=\"delim\"> \u2022 </span></span>\n            </div>\n        </div>\n    </div>\n</div>\n<p>From this HTML the following data can be extracted:\n\nVenue Name,\nVenue Score,\nVenue Category,\nVenue HREF,\nVenue ID [Extracted from the HREF] </p>"
        },
        {
            "cell_type": "markdown",
            "metadata": {},
            "source": "<h3>it is then possible to get further geographical details about each of the top sites from FourSquare using the following sample API call:</h3>\n\n# Get the properly formatted address and the latitude and longitude\n<p> url = 'https://api.foursquare.com/v2/venues/{}?client_id={}&client_secret={}&v={}'.format(\n    venue_id, \n    cfg['client_id'],\n    cfg['client_secret'],\n    cfg['version'])\n    \nresult = requests.get(url).json()\nresult['response']['venue']['location']\nThe requests returns a JSON object which can then be queried for the details required. The last line in the sample code above returns the following sample JSON:\n\n{  \n   \"city\":\"Chicago\",\n   \"lng\":-87.62323915831546,\n   \"crossStreet\":\"btwn Columbus Dr & Michigan Ave\",\n   \"neighborhood\":\"The Loop\",\n   \"postalCode\":\"60601\",\n   \"cc\":\"US\",\n   \"formattedAddress\":[  \n      \"201 E Randolph St (btwn Columbus Dr & Michigan Ave)\",\n      \"Chicago, IL 60601\",\n      \"United States\"\n   ],\n   \"state\":\"IL\",\n   \"address\":\"201 E Randolph St\",\n   \"lat\":41.8826616030636,\n   \"country\":\"United States\"\n}\nFrom this the following attributes are extracted:\n\nVenue Address,\n\nVenue Postalcode,\n\nVenue City,\n\nVenue Latitude,\n\nVenue Longitude</p>"
        },
        {
            "cell_type": "markdown",
            "metadata": {},
            "source": "<h2>Final FourSquare Top Sites Data</h2>\n<p>A sample of the final FourSquare Top Sites data is shown below:\n\nid\tscore\tcategory\tname\taddress\tpostalcode\tcity\thref\tlatitude\tlongitude\n\n\n42b75880f964a52090251fe3\t9.7\tPark\tMillennium Park\t201 E Randolph St\t60601\tChicago\t/v/millennium-park/42b75880f964a52090251fe3\t41.882662\t-87.623239\n\n\n4b9511c7f964a520f38d34e3\t9.6\tTrail\tChicago Lakefront Trail\tLake Michigan Lakefront\t60611\tChicago\t/v/chicago-lakefront-trail/4b9511c7f964a520f38...\t41.967053\t-87.646909\n49e9ef74f964a52011661fe3\t9.6\tArt Museum\tThe Art Institute of Chicago\t111 S Michigan Ave\t60603\tChicago\t/v/the-art-institute-of-chicago/49e9ef74f964a5...\t41.879665\t-87.623630\n4f2a0d0ae4b0837d0c4c2bc3\t9.6\tDeli / Bodega\tPublican Quality Meats\t825 W Fulton Market\t60607\tChicago\t/v/publican-quality-meats/4f2a0d0ae4b0837d0c4c...\t41.886642\t-87.648718\n4aa05f40f964a520643f20e3\t9.6\tTheater\tThe Chicago Theatre\t175 N State St\t60601\tChicago\t/v/the-chicago-theatre/4aa05f40f964a520643f20e3\t41.885578\t-87.627286</p>"
        },
        {
            "cell_type": "markdown",
            "metadata": {},
            "source": "<p><i>Using the the list of all id values in the Top Sites DataFrame and the FourSquare categoryID that represents all food venues we now search for restaurants within a 500 meter radius.\nThe requests returns a JSON object which can then be queried for the restaurant details required\nFrom this JSON the following attributes are extraced and added to the Dataframe:\n\nRestaurant ID\nRestaurant Category Name\nRestaurant Category ID\nRestaurant Nest_name\nRestaurant Address\nRestaurant Postalcode\nRestaurant City\nRestaurant Latitude\nRestaurant Longitude\nVenue Name\nVenue Latitude\nVenue Longitude</i></p>\n<p>The only piece of data that is missing is the Score or Rating of the Restaurant. To get this we need to make another FourSquare API query using the id of the Restaurant</p>"
        },
        {
            "cell_type": "markdown",
            "metadata": {},
            "source": "<h1>4.Discussion Section</h1>"
        },
        {
            "cell_type": "markdown",
            "metadata": {},
            "source": ""
        },
        {
            "cell_type": "markdown",
            "metadata": {},
            "source": "<p>Chicago Crime Data\nThis dataset can be download from the Chicago Data Portal and reflects reported incidents of crime (with the exception of murders where data exists for each victim) that occurred in the City of Chicago in the last year, minus the most recent seven days. A full desription of the data is available on the site.\n\nData is extracted from the Chicago Police Department's CLEAR (Citizen Law Enforcement Analysis and Reporting) system. In order to protect the privacy of crime victims, addresses are shown at the block level only and specific locations are not identified.</p>"
        },
        {
            "cell_type": "markdown",
            "metadata": {},
            "source": "<p>data was then processed as follows:\n\nMove September 2017 dates to September 2018 The extract of data used was taken mid September which meant that there was half a months data for September 2017 and half a months data for september 2018. These were combined to create a single month.\nClean up the column names:\nStrip leading & trailing whitespace,\nReplace multiple spaces with a single space,\nRemove # characters,\nReplace spaces with _,\nConvert to lowercase,\nChange the date of occurance field to a date / time object,\nAdd new columns for:\nHour,\nDay,\nMonth,\nYear,\netc.\nSplit Block into zip_code and street\nVerify that all rows have valid data</p>"
        },
        {
            "cell_type": "markdown",
            "metadata": {},
            "source": "<p>To get a better understanding of the data we will now visualise it. The number of crimes per month, day and hour were calculated:</p>\n\n<img src='image-20181001162714277'/>\n\n<img src='image-20181001162714277'/>\n\n<img src='image-20181001162714277'/>\n\nLooking at the top three crimes it is clearly visible that the occurances of theft rise gretly during daylight hours and particularly between the hours of 3:00 pm and 5:00 pm.\n\n<img src='image-20181001162714277'/>\n\nUnsuprisingly there little obvious variation in the number of crimes committed per month other than an apparent drop-off in February. There is a small increase in crime reported at the weekend, Saturday and Sunday, but nothing that couldbe considered significant. There is an expected fall-off in reported crime rates after midnight and before eight in the morning.\n\nFinally the crimes data for a single month, August, was super-imposed over a map of Chicago to visualise the distribution of that data:\n\n<img src='image-20181001162714277'/>\n\nThe higher frequency of the top two crimes can be easily seen. Red for Theft and Blue for Battery.\n\nNext the crimes were clustered:\n\n<img src='image-20181001162714277'/>\n\nSeveral obvious clusters of crime locations were visible, particularly in the center of Chicago.\n\nFinally a heat map of the August crimes was created:\n\n<img src='image-20181001162714277'/>\n\nThis reinforces the cluster chart where it can clearly be seen that the center of Chicago and the area around Oak Park have a high crime rate occurrence. It will be interesting to see later if there is a high probability of crime in these areas if one of the top listed venues are located in these areas."
        },
        {
            "cell_type": "markdown",
            "metadata": {},
            "source": "<h1>5.Results section</h1>"
        },
        {
            "cell_type": "markdown",
            "metadata": {},
            "source": "Exploratory Data Analysis\nThe first round of eploratory analysis was to examine the Top Venues and Restaurants Dataframes to determine if there was any correlation between variables.\n\nUnforfunately the only data attributes that could be analysed were the Latitude and Longitude attributes and their relationship to the venuse score. Top Venues was examined First.\n\nimage-20181001162714277\n\nimage-20181001162714277\n\nAlthough nothing obvious to would appear that the top venues are centered arounf the -87.65 Longitude.\n\nthe Restaurant data was examined next.\n\nimage-20181001162714277\n\nimage-20181001162714277\n\nUnsuprisingly the Restaurant data is also clustered arounf the -87.65 Longitude given that Restaurants with 500 meters of the top venues were selected.\n\nFurther Visualisation\nBecause it was not possible, because of the categorical nature of the data, to do more details inferential statistical analysis of the data further exploratory visualisation was undertaken. It shouldbe noted, however, that this visualisation would actually become part of the final presentation to the traveller. It would be important for the traveller to see the crime, venue and restaurant data presented in this manner.\n\n###Display each of the Top 10 Venues\n\nIn this section a preview of the type of data that will be displayed to a user of the proposed solution is shown.\n\nFor each of the Top 10 Venues:\n\nAll crimes within 750 meters of the venue are added to a dataframe\nAll restaurants associated with the venue are added to a dataframe\nA folium Map is created centered on the venue\nA heatmap of the crimes in the area are overlayed\nthe venue is marked on the map\nThe top 10 scored restaurants are marked on the map\nIt is possible to fully automate this through full iteration but in order to clearly show each of the 10 maps each is generated manually (to a degree).\n\nA couple of example of the generated maps are shown below.\n\nThe first map below is the top rated venue Millennium Park. The location of the attraction and the 10 top rated venues are clearly shown. The Top Venue is shown using a blue marker, the restaurants are shown using a red marker. Also shown is the heatmap of cimes within 750 meters over the course of the entire previous year. The hotter, redder, the heatmap the more crimes there are recorded. Some Restaurants, for example the two located at the top left of the map, appear to be in areas where crime is quite frequent. On the other hand others are in areas which are obviously not as crime ridden.\n\nimage-20181001162714277\n\nThe second map is for The Music Box Theatre. It is immediately apparent that the crime rate in this area of the city is much lower:\n\nimage-20181001162714277\n\nVisiting this venue appears to be a much safer option with very little crime recored in the immediate vicinity. Also shown in the map above is the extra details provided about each Restaurant. The restaurant name, Tango Sur, it's food type Argentinian, and its average score are given.\n\nModelling\nBefore we start modelling we need to prepare the data frame to include only mumerical data and by removing unneeded columns.\n\nRather than removing colums from df_crimes a new df_features DataFrame was created with just the required columns. This df_features DataFrame was then processed to remove Categorical Data Types and replace them with One Hot encoding. Finally the Dependant Variables were Normalised.\n\nThe Features DataFrame looked like this:\n\ndf_features.head()\n\nlatitude\tlongitude\thour_0\thour_1\thour_2\thour_3\thour_4\thour_5\thour_6\thour_7\t...\tJanuary\tJuly\tJune\tMarch\tMay\tNovember\tOctober\tSeptember\tward\tcrimes\n41.780946\t-87.621995\t0\t0\t0\t0\t0\t0\t0\t0\t...\t0\t0\t0\t0\t0\t0\t0\t0\t20.0\tTHEFT\n41.965404\t-87.736202\t0\t0\t0\t0\t0\t0\t0\t0\t...\t0\t0\t0\t0\t0\t0\t0\t0\t39.0\tTHEFT\n41.895946\t-87.629760\t0\t0\t0\t0\t0\t0\t0\t0\t...\t0\t0\t0\t0\t0\t0\t0\t0\t42.0\tBATTERY\n41.867081\t-87.619004\t0\t0\t0\t0\t0\t0\t0\t0\t...\t0\t0\t0\t0\t0\t0\t0\t0\t2.0\tTHEFT\n41.769917\t-87.663955\t0\t0\t0\t0\t0\t0\t0\t0\t...\t0\t0\t0\t0\t0\t0\t0\t0\t17.0\tTHEFT\n5 rows \u00d7 47 columns\n\ndf_featues.dtypes\n\nlatitude     float64\nlongitude    float64\nhour_0         uint8\nhour_1         uint8\nhour_2         uint8\nhour_3         uint8\nhour_4         uint8\nhour_5         uint8\nhour_6         uint8\nhour_7         uint8\nhour_8         uint8\nhour_9         uint8\nhour_10        uint8\nhour_11        uint8\nhour_12        uint8\nhour_13        uint8\nhour_14        uint8\nhour_15        uint8\nhour_16        uint8\nhour_17        uint8\nhour_18        uint8\nhour_19        uint8\nhour_20        uint8\nhour_21        uint8\nhour_22        uint8\nhour_23        uint8\nFriday         uint8\nMonday         uint8\nSaturday       uint8\nSunday         uint8\nThursday       uint8\nTuesday        uint8\nWednesday      uint8\nApril          uint8\nAugust         uint8\nDecember       uint8\nFebruary       uint8\nJanuary        uint8\nJuly           uint8\nJune           uint8\nMarch          uint8\nMay            uint8\nNovember       uint8\nOctober        uint8\nSeptember      uint8\nward         float64\ncrimes        object\ndtype: object\nFive model type were then chosen to be evaluated:\n\nK Nearest Neighbours\nDecision Trees\nLogestic Regression\nNaive Bayes\nDecision Forest using a Random Forest\nThere was one significant issue with the crimes data frame as acquired. Although multiclass classification / prediction is possible, the crimes dataset is unbalanced. Modelling algorithms work best when there is approximately an equal number of samples for each class for example The Curse of Class Imbalance and Class imbalance and the curse of minority hubs.\n\nFor this reason the modelling task was turned into a simple binary classification task by only modelling based on the top two most occuring crimes. For each model development 10 Fold Cross Validation was used to ensure the best results were achieved and a Grid Search approach was used to determine the best setting for each of the models:\n\n###K Nearest Neighbours\n\nK Nearest Neighbor(KNN) is a very simple, easy to understand, versatile and one of the topmost machine learning algorithms. KNN is used in the variety of applications such as finance, healthcare, political science, handwriting detection, image recognition and video recognition. KNN algorithm is used for both classification and regression problems.\n\nKNN Model was quick to execute and through the process of evaluation it was discovered the K = 9 gave the best results\n\nimage-20181001162714277\n\nKNN was not particularly fast taking approximately 10 minutes per model.\n\nHeighbours:  8   2018-10-08 15:52:13.421456\nHeighbours:  9   2018-10-08 16:00:51.217053\nHeighbours:  10   2018-10-08 16:10:11.199822\nHeighbours:  11   2018-10-08 16:21:14.573951\nHeighbours:  12   2018-10-08 16:31:42.417515\nDecision Tree\nA decision tree is a decision support tool that uses a tree-like graph or model of decisions and their possible consequences, including chance event outcomes, resource costs, and utility.\n\nThe Decision Tree model was particularly fast taking only 10 seconds per model. This meant that it was easy to try multiple different parameters. A tree depth of 15 gave the best model performance:\n\nimage-20181001162714277\n\nLogistic Regression & Naive Bayes\nLogistic Regression and Naive Bayes models did not return any models with an accuracy greater that 0.61.\n\nDecision Forest using a Random Forest\nRandom forests or random decision forests are an ensemble learning method for classification, regression and other tasks, that operate by constructing a multitude of decision trees at training time and outputting the class that is the mode of the classes (classification) or mean prediction (regression) of the individual trees. Random decision forests correct for decision trees' habit of overfitting to their training set.\n\nEach model took approximately 40 seconds to create and 22 estimators was found to give the best model accuracy.\n\nEstimator:  20   2018-10-08 15:46:03.008463\nEstimator:  21   2018-10-08 15:46:39.961439\nEstimator:  22   2018-10-08 15:47:19.027772\nEstimator:  23   2018-10-08 15:47:59.712219\nimage-20181001162714277\n\nBest Model\nUsing the the crime data for the top two occuring crimes each of the top performing models where further evaluated to to determine which model performed the best using F1-Score, Jaccard Score and Log Loss.\n\nRandon forest was determined to be the best model.\n\nAlgorithm\tF1-Score\tJaccard\tLogLoss\nKNN\t0.735110\t0.700167\t10.355988\nDecision Tree\t0.739844\t0.722507\t9.584343\nBernoulli Naive Bayes\t0.670262\t0.610028\t13.469334\nLogistic Regression\t0.692493\t0.618332\t13.182555\nRandom Forest\t0.996330\t0.995866\t0.142790\nBest Model- Detailed Examination\nRamdom Forest is the best model scoring highest in all measurements, F1-Score, Jaccard and Log Loss. Let's now create a new model. The September crime data will become the unseen test data for the final model.\n\nThe Top Two Crimes Feature Features Dataframe was created again and split into Training Data, everything except December, and Test Data, September.\n\nPredict the Final Performance of the Model\nThe F1-Score and Jaccard Score were calculated\n\n# Predict yhat using X_Test\nyhat = Forest_model_final.predict(X_Test)\n    \n# Measure the Jaccard Score of the final Model\njaccard_final = metrics.jaccard_similarity_score(y_Test, yhat)\nprint('Jaccard Score', jaccard_final)\n    \nf1 = metrics.f1_score(y_Test, yhat, average=None)\nprint('F1-Score of each class', f1)\nJaccard Score 0.6462361168243521\nF1-Score of each class [0.60997732 0.67632668]\nWhat are the important Features\nThe most important, or informative, features were then determined. The top ten are shown:\n\nFeature ranking:\n1. feature 0 (0.270578)\n2. feature 1 (0.257083)\n3. feature 45 (0.135026)\n4. feature 38 (0.012409)\n5. feature 39 (0.012210)\n6. feature 43 (0.011945)\n7. feature 34 (0.011605)\n8. feature 32 (0.011600)\n9. feature 41 (0.011550)\n10. feature 37 (0.011341)\nThis shows that the most predictive models are:\n\nLatitude\nLongitude\nWard\nAfter these the day and the month of the crime are weak predicters at ~1.1%. The other features, particulraly the hour the crime took place, are hardly predictive at all. A plot of this is shown below:\n\nimage-20181001162714277\n\nResults & Prediction\nLet's review the goals of this project.\n\nThe idea for the Capstone Project is to show that when driven by venue and location data from FourSquare, backed up with open source crime data, that it is possible to present the cautious and nervous traveller with a list of attractions to visit supplementd with a graphics showing the occurance of crime in the region of the venue.\n\nA high level approach is as follows:\n\n The travellers decides on a city location [in this case Chicago]\n The ForeSquare website is scrapped for the top venues in the city\n From this list of top venues the list is augmented with additional grographical data\n Using this additional geographical data the top nearby restaurents are selects\n The historical crime within a predetermined distance of all venues are obtained\n A map is presented to the to the traveller showing the selected venues and crime statistics of the area.\n The future prediction of a crime happening near or around the selected top sites is also presented to the user\nSo all goals have been achieved except the final one. In this Results and Predictions Section this goal is addressed.\n\nThe purpose of this project was to see if crime can be predicted. However, the nature of the dataset, particularly the number of different crimes and the unbalanced nature of the dataset, makes it difficult to predict what crime will predict and when. We can, however, repurpose the Crimes DataFrame by spliting the dataset into two distinct balanced sets and randonly assigning to 0 to represent no crime and 1 to present a crime happening. The data set looked like this:\n\nlatitude\tlongitude\thour_0\thour_1\thour_2\thour_3\thour_4\thour_5\thour_6\thour_7\t...\tJuly\tJune\tMarch\tMay\tNovember\tOctober\tSeptember\trandom_crimes\n41.897895\t-87.760744\t0\t0\t0\t0\t0\t0\t0\t0\t...\t0\t0\t0\t0\t0\t0\t0\t1\n41.798635\t-87.604823\t0\t0\t0\t0\t0\t0\t0\t0\t...\t0\t0\t0\t0\t0\t0\t0\t1\n41.780946\t-87.621995\t0\t0\t0\t0\t0\t0\t0\t0\t...\t0\t0\t0\t0\t0\t0\t0\t1\n41.965404\t-87.736202\t0\t0\t0\t0\t0\t0\t0\t0\t...\t0\t0\t0\t0\t0\t0\t0\t0\n41.850673\t-87.735597\t0\t0\t0\t0\t0\t0\t0\t0\t...\t0\t0\t0\t0\t0\t0\t0\t1\n5 rows \u00d7 46 columns\n\nThe differnce between this and earlier modelling is that the Ward attribute had to be removed for reason which will become obvious presently.\n\nTest Data\nThe test data was contructed from the the Top Venues Data Frame and the Restaurants Dataframe as follows:\n\nThe two dataframes were joined together to form a single dataframe. The venue or restaurant name and the latitude and longitude attributes were added.\nDuplicate entries were dropped as some restaurants appeared multiple times in the dataframe\nNext a random date and time was assigned to each venue.\nThe date was then split into Hour, Day of Week, Month and Year as described above\nThe data was finally prepared for prediction by applying One Hot encoding and then extracted into a new dataframe that match the format used to create the model.\ny^ (y_hat) or the predictions were then made\nThe results of the predistions areshown below\n\nyhat\n\narray([0, 0, 0, 0, 0, 0, 0, 0, 0, 0, 0, 0, 0, 0, 0, 0, 0, 0, 0, 0, 0, 0,\n       0, 0, 0, 0, 0, 0, 0, 0, 1, 0, 1, 0, 1, 0, 0, 1, 0, 0, 0, 0, 0, 0,\n       0, 0, 0, 0, 1, 0, 1, 0, 0, 0, 0, 0, 0, 0, 0, 0, 0, 0, 0, 0, 0, 0,\n       0, 0, 0, 0, 0, 1, 0, 0, 0, 1, 0, 0, 0, 0, 0, 0, 0, 0, 0, 0, 0, 1,\n       0, 0, 0, 0, 0, 0, 0, 1, 0, 0, 0, 0, 0, 0, 0, 1, 0, 0, 0, 0, 1, 0,\n       0, 0, 1, 0, 1, 0, 0, 0, 0, 0, 0, 0, 0, 0, 0, 0, 0, 0, 0, 0, 0, 0,\n       0, 0, 0, 0, 0, 0, 1, 0, 0, 0, 0, 0, 0, 0, 0, 0, 0, 0, 0, 0, 0, 0,\n       0, 0, 0, 0, 0, 1, 0, 0, 0, 0, 1, 0, 0, 0, 1, 0, 0, 0, 0, 1, 0, 0,\n       0, 0, 0, 0, 0, 0, 0, 1, 1, 0, 0, 0, 0, 0, 0, 1, 0, 1, 0, 0, 0, 0,\n       0, 0, 0, 0, 0, 0, 0, 1, 0, 0, 0, 0, 0, 0, 0, 0, 0, 0, 0, 0, 0, 0,\n       1, 0])\nAnd the Predictions were readded to the data (as it was before One Hot encoding was applied).\n\ndf_final.head(10)\n\nname\tlatitude\tlongitude\tdate\tprediction\nMillennium Park\t41.882699\t-87.623644\t2018-10-24 05:31:00\t0\nChicago Lakefront Trail\t41.967053\t-87.646909\t2018-01-24 09:33:00\t0\nThe Art Institute of Chicago\t41.879665\t-87.623630\t2018-01-21 02:09:00\t0\nThe Chicago Theatre\t41.885578\t-87.627286\t2018-06-16 14:15:00\t0\nSymphony Center (Chicago Symphony Orchestra)\t41.879275\t-87.624680\t2018-02-12 01:57:00\t0\nGrant Park\t41.873407\t-87.620747\t2018-10-19 12:15:00\t1\nChicago Riverwalk\t41.887280\t-87.627217\t2018-04-21 13:30:00\t0\nGarfield Park Conservatory\t41.886259\t-87.717177\t2018-01-07 00:32:00\t0\nMusic Box Theatre\t41.949798\t-87.663938\t2018-11-03 21:26:00\t0\nNature Boardwalk\t41.918102\t-87.633283\t2018-05-18 15:23:00\t1\nVisualisation of Predictions\nOf the top ten venues 8 were identified as potentially dangerous to visit and 2 were deems safe. As there is no data to compare the predictions against the best way we will visualise the data again.\n\nWe will look at the following 4 venues:\n\nMillennium Park 41.882699 -87.623644\nThe Chicago Theatre 41.885578 -87.627286\nGrant Park 41.873407 -87.620747\nNature Boardwalk 41.918102 -87.633283\nThe Distance Dataframe is recreated again but this time all crimes are included.\n\nThe first two images are are of Millennium Park and of The Chicago Theatre. Both of these venues were identified as likely to be susceptible to crime."
        },
        {
            "cell_type": "markdown",
            "metadata": {},
            "source": "<h1>6.Conclusion</h1>"
        },
        {
            "cell_type": "code",
            "execution_count": null,
            "metadata": {},
            "outputs": [],
            "source": "<p>Although all of the goals of this project were met there is definitely room for further improvement and development as noted below. However, the goals of the project were met and, with some more work, could easily be devleoped into a fully phledged application that could support the cautious traveller in an unknown location."
        }
    ],
    "metadata": {
        "kernelspec": {
            "display_name": "Python 3.6",
            "language": "python",
            "name": "python3"
        },
        "language_info": {
            "codemirror_mode": {
                "name": "ipython",
                "version": 3
            },
            "file_extension": ".py",
            "mimetype": "text/x-python",
            "name": "python",
            "nbconvert_exporter": "python",
            "pygments_lexer": "ipython3",
            "version": "3.6.9"
        }
    },
    "nbformat": 4,
    "nbformat_minor": 1
}