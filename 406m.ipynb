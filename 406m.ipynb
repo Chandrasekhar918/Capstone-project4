{
    "cells": [
        {
            "metadata": {
                "collapsed": true
            },
            "cell_type": "markdown",
            "source": "<h1><b align='center'>The Capstone-project</b></h1>"
        },
        {
            "metadata": {},
            "cell_type": "markdown",
            "source": "<h2>Section-1:\nIntroduction </h2>"
        },
        {
            "metadata": {},
            "cell_type": "markdown",
            "source": "<p>In this section I am going to describe about my idea , where I leverage the Foursquare location data to solve the business activities which we are facing at present.</p>"
        },
        {
            "metadata": {},
            "cell_type": "markdown",
            "source": "<p>We see large number of travel sites on the Internet, including FourSquare, that will tell you all about places to go, things to see, restaurants to eat at, bars to drink in, nightclubs to part the night away in and then where to go in the morning to get breakfast and a strong coffee. The problems with these sites is that they are one dimensional. If you want to find out all this information about a city you plan to visit next month, you have to do the hard work. Also, just because a venue is the hottest place to go for a night out does not always mean that the unwitting tourist should just ramble in unprepared. The areas surrounding this new venue might be riddled with crime including muggings, car theft and assault, for example. Approach the venue from any direction other than from the north and you could be putting your life in danger. This is when my idea comes in.</p>"
        },
        {
            "metadata": {},
            "cell_type": "markdown",
            "source": "<p>let us imagine the following situations</p>"
        },
        {
            "metadata": {},
            "cell_type": "markdown",
            "source": "<p> 1.You like to plan ahead and always review your options and make your choices about where you will visit and eat up front before you travel.\n2.You are flying to Chicogo for a Data Science Conference.\n3.You arrive in Chicago the day the conference starts but you've managed to convince your boss to delay your return by a few days giving you time to explore\n4.Also the last time you went to a conference you were mugged and had you passport. money and credit cards stolen so you're now nervous of going somewhere without first researching the venue and the surrounding area.\n5.The conference is next week and you don't have time to do all the research you'd like.\n</p>"
        },
        {
            "metadata": {},
            "cell_type": "markdown",
            "source": "<h3>The problems for these will be answered by reading the content below</h3>"
        },
        {
            "metadata": {},
            "cell_type": "markdown",
            "source": "<p>My idea for the Capstone Project is to show that when driven by venue and location data from FourSquare, backed up with open source crime data, that it is possible to present the cautious and nervous traveller with a list of attractions to visit supplementd with a graphics showing the occurance of crime in the region of the venue.</p>"
        },
        {
            "metadata": {},
            "cell_type": "markdown",
            "source": "<p> An approach should be taken as follows</p>\n<p><i>approach is as follows:\n\nThe travellers decides on a city location [in this case Chicago]\nThe ForeSquare website is scrapped for the top venues in the city\nFrom this list of top venues the list is augmented with additional grographical data\nUsing this additional geographical data the top nearby restaurents are selects\nThe historical crime within a predetermined distance of all venues are obtained\nA map is presented to the to the traveller showing the selected venues and crime statistics of the area.\nThe future probability of a crime happening near or around the selected top sites is also presented to the user</i></p>"
        },
        {
            "metadata": {},
            "cell_type": "markdown",
            "source": "<p>There are many data science aspect of this project including:\n\nData Acquisition\nData Analysis\nMachine Learning\nPrediction </p>"
        },
        {
            "metadata": {},
            "cell_type": "markdown",
            "source": ""
        },
        {
            "metadata": {},
            "cell_type": "markdown",
            "source": "<h1>Section 2: Data\nData Description</h1>\n<p>In this section, I will describe the data used to solve the problem as described previously.\n\nAs noted below in the Further Development Section, it is possible to attempt quite complex and sophisticated scenarios when approaching this problem. However, given the size of the project and for simplicity only the following scenario will be addressed:\n\nQuery the FourSqaure website for the top sites in Chicago\nUse the FourSquare API to get supplemental geographical data about the top sites\nUse the FourSquare API to get top restaurent recommendations closest to each of the top site\nUse open source Chicago Crime data to provide the user with additional crime data</p>"
        },
        {
            "metadata": {},
            "cell_type": "markdown",
            "source": "<h2>Using BeautifulSoup and Requests the results of the Top Pick for Chicago was retrieved. A sample venue is shown below:</h2>\n\n<div class=\"venueDetails\">\n    <div class=\"venueName\">\n        <h2>\n    <a href=\"/v/millennium-park/42b75880f964a52090251fe3\" target=\"_blank\">Millennium Park\n    </a>\n</h2>\n    </div>\n    <div class=\"venueMeta\">\n        <div class=\"venueScore positive\" style=\"background-color: #00B551;\" title=\"9.7/10 - People like this place\">9.7</div>\n        <div class=\"venueAddressData\">\n            <div class=\"venueAddress\">201 E Randolph St (btwn Columbus Dr &amp; Michigan Ave), Chicago</div>\n            <div class=\"venueData\"><span class=\"venueDataItem\"><span class=\"categoryName\">Park</span><span class=\"delim\"> \u2022 </span></span>\n            </div>\n        </div>\n    </div>\n</div>\n<p>From this HTML the following data can be extracted:\n\nVenue Name,\nVenue Score,\nVenue Category,\nVenue HREF,\nVenue ID [Extracted from the HREF] </p>"
        },
        {
            "metadata": {},
            "cell_type": "markdown",
            "source": "<h3>it is then possible to get further geographical details about each of the top sites from FourSquare using the following sample API call:</h3>\n\n# Get the properly formatted address and the latitude and longitude\n<p> url = 'https://api.foursquare.com/v2/venues/{}?client_id={}&client_secret={}&v={}'.format(\n    venue_id, \n    cfg['client_id'],\n    cfg['client_secret'],\n    cfg['version'])\n    \nresult = requests.get(url).json()\nresult['response']['venue']['location']\nThe requests returns a JSON object which can then be queried for the details required. The last line in the sample code above returns the following sample JSON:\n\n{  \n   \"city\":\"Chicago\",\n   \"lng\":-87.62323915831546,\n   \"crossStreet\":\"btwn Columbus Dr & Michigan Ave\",\n   \"neighborhood\":\"The Loop\",\n   \"postalCode\":\"60601\",\n   \"cc\":\"US\",\n   \"formattedAddress\":[  \n      \"201 E Randolph St (btwn Columbus Dr & Michigan Ave)\",\n      \"Chicago, IL 60601\",\n      \"United States\"\n   ],\n   \"state\":\"IL\",\n   \"address\":\"201 E Randolph St\",\n   \"lat\":41.8826616030636,\n   \"country\":\"United States\"\n}\nFrom this the following attributes are extracted:\n\nVenue Address,\n\nVenue Postalcode,\n\nVenue City,\n\nVenue Latitude,\n\nVenue Longitude</p>"
        },
        {
            "metadata": {},
            "cell_type": "markdown",
            "source": "<h2>Final FourSquare Top Sites Data</h2>\n<p>A sample of the final FourSquare Top Sites data is shown below:\n\nid\tscore\tcategory\tname\taddress\tpostalcode\tcity\thref\tlatitude\tlongitude\n\n\n42b75880f964a52090251fe3\t9.7\tPark\tMillennium Park\t201 E Randolph St\t60601\tChicago\t/v/millennium-park/42b75880f964a52090251fe3\t41.882662\t-87.623239\n\n\n4b9511c7f964a520f38d34e3\t9.6\tTrail\tChicago Lakefront Trail\tLake Michigan Lakefront\t60611\tChicago\t/v/chicago-lakefront-trail/4b9511c7f964a520f38...\t41.967053\t-87.646909\n49e9ef74f964a52011661fe3\t9.6\tArt Museum\tThe Art Institute of Chicago\t111 S Michigan Ave\t60603\tChicago\t/v/the-art-institute-of-chicago/49e9ef74f964a5...\t41.879665\t-87.623630\n4f2a0d0ae4b0837d0c4c2bc3\t9.6\tDeli / Bodega\tPublican Quality Meats\t825 W Fulton Market\t60607\tChicago\t/v/publican-quality-meats/4f2a0d0ae4b0837d0c4c...\t41.886642\t-87.648718\n4aa05f40f964a520643f20e3\t9.6\tTheater\tThe Chicago Theatre\t175 N State St\t60601\tChicago\t/v/the-chicago-theatre/4aa05f40f964a520643f20e3\t41.885578\t-87.627286</p>"
        },
        {
            "metadata": {},
            "cell_type": "markdown",
            "source": "<p><i>Using the the list of all id values in the Top Sites DataFrame and the FourSquare categoryID that represents all food venues we now search for restaurants within a 500 meter radius.\nThe requests returns a JSON object which can then be queried for the restaurant details required\nFrom this JSON the following attributes are extraced and added to the Dataframe:\n\nRestaurant ID\nRestaurant Category Name\nRestaurant Category ID\nRestaurant Nest_name\nRestaurant Address\nRestaurant Postalcode\nRestaurant City\nRestaurant Latitude\nRestaurant Longitude\nVenue Name\nVenue Latitude\nVenue Longitude</i></p>\n<p>The only piece of data that is missing is the Score or Rating of the Restaurant. To get this we need to make another FourSquare API query using the id of the Restaurant</p>"
        },
        {
            "metadata": {},
            "cell_type": "markdown",
            "source": ""
        },
        {
            "metadata": {},
            "cell_type": "markdown",
            "source": "<p>Chicago Crime Data\nThis dataset can be download from the Chicago Data Portal and reflects reported incidents of crime (with the exception of murders where data exists for each victim) that occurred in the City of Chicago in the last year, minus the most recent seven days. A full desription of the data is available on the site.\n\nData is extracted from the Chicago Police Department's CLEAR (Citizen Law Enforcement Analysis and Reporting) system. In order to protect the privacy of crime victims, addresses are shown at the block level only and specific locations are not identified.</p>"
        },
        {
            "metadata": {},
            "cell_type": "markdown",
            "source": "<p>data was then processed as follows:\n\nMove September 2017 dates to September 2018 The extract of data used was taken mid September which meant that there was half a months data for September 2017 and half a months data for september 2018. These were combined to create a single month.\nClean up the column names:\nStrip leading & trailing whitespace,\nReplace multiple spaces with a single space,\nRemove # characters,\nReplace spaces with _,\nConvert to lowercase,\nChange the date of occurance field to a date / time object,\nAdd new columns for:\nHour,\nDay,\nMonth,\nYear,\netc.\nSplit Block into zip_code and street\nVerify that all rows have valid data</p>"
        },
        {
            "metadata": {},
            "cell_type": "code",
            "source": "<p>To get a better understanding of the data we will now visualise it. The number of crimes per month, day and hour were calculated:</p>\n\n<img src='image-20181001162714277'/>\n\n<img src='image-20181001162714277'/>\n\n<img src='image-20181001162714277'/>\n\nLooking at the top three crimes it is clearly visible that the occurances of theft rise gretly during daylight hours and particularly between the hours of 3:00 pm and 5:00 pm.\n\nimage-20181001162714277\n\nUnsuprisingly there little obvious variation in the number of crimes committed per month other than an apparent drop-off in February. There is a small increase in crime reported at the weekend, Saturday and Sunday, but nothing that couldbe considered significant. There is an expected fall-off in reported crime rates after midnight and before eight in the morning.\n\nFinally the crimes data for a single month, August, was super-imposed over a map of Chicago to visualise the distribution of that data:\n\nimage-20181001162714277\n\nThe higher frequency of the top two crimes can be easily seen. Red for Theft and Blue for Battery.\n\nNext the crimes were clustered:\n\nimage-20181001162714277\n\nSeveral obvious clusters of crime locations were visible, particularly in the center of Chicago.\n\nFinally a heat map of the August crimes was created:\n\nimage-20181001162714277\n\nThis reinforces the cluster chart where it can clearly be seen that the center of Chicago and the area around Oak Park have a high crime rate occurrence. It will be interesting to see later if there is a high probability of crime in these areas if one of the top listed venues are located in these areas.",
            "execution_count": null,
            "outputs": []
        }
    ],
    "metadata": {
        "kernelspec": {
            "name": "python3",
            "display_name": "Python 3.6",
            "language": "python"
        },
        "language_info": {
            "name": "python",
            "version": "3.6.9",
            "mimetype": "text/x-python",
            "codemirror_mode": {
                "name": "ipython",
                "version": 3
            },
            "pygments_lexer": "ipython3",
            "nbconvert_exporter": "python",
            "file_extension": ".py"
        }
    },
    "nbformat": 4,
    "nbformat_minor": 1
}